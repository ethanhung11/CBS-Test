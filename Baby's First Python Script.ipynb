{
 "cells": [
  {
   "cell_type": "markdown",
   "id": "f6014976",
   "metadata": {},
   "source": [
    "# Intro to Git Workshop\n",
    "## Welcome to your first git project!\n",
    "This is a Jupyter (.ipynb) file, which allows you to annotate and compile your Python code in one place. For many computational labs using Python, this is a file you'll have to be familiar with. "
   ]
  },
  {
   "cell_type": "markdown",
   "id": "6ea81383",
   "metadata": {},
   "source": [
    "### Pre-Assignment\n",
    "Make sure that your `git config` settings properly reflect your name and email. Find out the name of the remote branch that you're drawing from by using the proper command. Paste it into the box below by replacing the None."
   ]
  },
  {
   "cell_type": "code",
   "execution_count": null,
   "id": "eab74f49",
   "metadata": {},
   "outputs": [],
   "source": [
    "answer = \"None\""
   ]
  },
  {
   "cell_type": "markdown",
   "id": "24cced80",
   "metadata": {},
   "source": [
    "### Assignment 1\n",
    "Create a new local branch with the first initial and last name, all lowercase, followed by the number 1 (e.g. John Doe -> \"jdoe1\"). Uncomment out the code below, then stage your changes. Then, push your change out to the remote repository branch of the same name. "
   ]
  },
  {
   "cell_type": "code",
   "execution_count": null,
   "id": "74071285",
   "metadata": {},
   "outputs": [],
   "source": [
    "# def evenOrOdd(n):\n",
    "#     if n==1:\n",
    "#         return \"Odd\"\n",
    "#     elif n==2:\n",
    "#         return \"Even\"\n",
    "#     elif n==3:\n",
    "#         return \"Odd\"\n",
    "#     else:\n",
    "#         return \"That number is too big\""
   ]
  },
  {
   "cell_type": "markdown",
   "id": "faae60b3",
   "metadata": {},
   "source": [
    "### Assignment 2\n",
    "Now, merge the remote branch part_2 to receive the next assignment."
   ]
  }
 ],
 "metadata": {
  "kernelspec": {
   "display_name": "Python 3.10.4 64-bit",
   "language": "python",
   "name": "python3"
  },
  "language_info": {
   "codemirror_mode": {
    "name": "ipython",
    "version": 3
   },
   "file_extension": ".py",
   "mimetype": "text/x-python",
   "name": "python",
   "nbconvert_exporter": "python",
   "pygments_lexer": "ipython3",
   "version": "3.10.4"
  },
  "vscode": {
   "interpreter": {
    "hash": "3a8d20506be82a4461f9b41041c14fdfe08e8897388d050f9d1ea4a80103d22a"
   }
  }
 },
 "nbformat": 4,
 "nbformat_minor": 5
}
